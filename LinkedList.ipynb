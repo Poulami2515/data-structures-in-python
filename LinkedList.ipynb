{
 "cells": [
  {
   "cell_type": "markdown",
   "id": "16c03564",
   "metadata": {},
   "source": [
    "# LINKED LIST"
   ]
  },
  {
   "cell_type": "markdown",
   "id": "a8c72e4e",
   "metadata": {},
   "source": [
    "## CREATION AND TRAVERSAL"
   ]
  },
  {
   "cell_type": "code",
   "execution_count": 3,
   "id": "2152d4cf",
   "metadata": {},
   "outputs": [
    {
     "name": "stdout",
     "output_type": "stream",
     "text": [
      "START -> Mon -> Tue -> Wed -> END\n"
     ]
    }
   ],
   "source": [
    "class Node:\n",
    "   def __init__(self, dataval=None):\n",
    "      self.dataval = dataval\n",
    "      self.nextval = None\n",
    "\n",
    "class SLinkedList:\n",
    "   def __init__(self):\n",
    "      self.headval = None\n",
    "\n",
    "   def display(self):\n",
    "      printval = self.headval\n",
    "      print(\"START -> \", end='')\n",
    "      while printval is not None:\n",
    "         print (printval.dataval, end=\" -> \")\n",
    "         printval = printval.nextval\n",
    "         #printval.nextval=nextval\n",
    "      print(\"END\")  \n",
    "\n",
    "list = SLinkedList()\n",
    "list.headval = Node(\"Mon\")\n",
    "temp=list.headval\n",
    "e2 = Node(\"Tue\")\n",
    "e3 = Node(\"Wed\")\n",
    "\n",
    "# Link first Node to second node\n",
    "list.headval.nextval = e2\n",
    "\n",
    "# Link second Node to third node\n",
    "e2.nextval = e3\n",
    "\n",
    "list.display()"
   ]
  },
  {
   "cell_type": "markdown",
   "id": "0ac62332",
   "metadata": {},
   "source": [
    "## DYNAMIC CREATION"
   ]
  },
  {
   "cell_type": "code",
   "execution_count": 18,
   "id": "d869da87",
   "metadata": {},
   "outputs": [
    {
     "name": "stdout",
     "output_type": "stream",
     "text": [
      "Enter a value to add to the list (or 'done' to stop): 1\n",
      "Enter a value to add to the list (or 'done' to stop): 2\n",
      "Enter a value to add to the list (or 'done' to stop): 3\n",
      "Enter a value to add to the list (or 'done' to stop): 4\n",
      "Enter a value to add to the list (or 'done' to stop): 5\n",
      "Enter a value to add to the list (or 'done' to stop): 6\n",
      "Enter a value to add to the list (or 'done' to stop): 7\n",
      "Enter a value to add to the list (or 'done' to stop): 8\n",
      "Enter a value to add to the list (or 'done' to stop): 9\n",
      "Enter a value to add to the list (or 'done' to stop): 10\n",
      "Enter a value to add to the list (or 'done' to stop): \"done\"\n",
      "1 -> 2 -> 3 -> 4 -> 5 -> 6 -> 7 -> 8 -> 9 -> 10 -> NULL\n"
     ]
    }
   ],
   "source": [
    "class Node:\n",
    "    def __init__(self, data=None):\n",
    "        self.data = data\n",
    "        self.next = None\n",
    "\n",
    "class LinkedList:\n",
    "    def __init__(self):\n",
    "        self.head = None\n",
    "\n",
    "    def insert_at_end(self, data):\n",
    "        new_node = Node(data)\n",
    "\n",
    "        if self.head is None:\n",
    "            self.head = new_node\n",
    "            return\n",
    "\n",
    "        last_node = self.head\n",
    "        while last_node.next:\n",
    "            last_node = last_node.next\n",
    "\n",
    "        last_node.next = new_node\n",
    "\n",
    "    def display(self):\n",
    "        if self.head is None:\n",
    "            print(\"LinkedList is empty\")\n",
    "            return\n",
    "\n",
    "        current_node = self.head\n",
    "        while current_node:\n",
    "            print(current_node.data, end=\" -> \")\n",
    "            current_node = current_node.next\n",
    "\n",
    "        print(\"NULL\")\n",
    "\n",
    "# Create an empty LinkedList\n",
    "my_list = LinkedList()\n",
    "\n",
    "# Take input from user until they enter \"done\"\n",
    "while True:\n",
    "    user_input = eval(input(\"Enter a value to add to the list (or 'done' to stop): \"))\n",
    "    if user_input == \"done\":\n",
    "        break\n",
    "\n",
    "    # Add the user's input to the list\n",
    "    my_list.insert_at_end(user_input)\n",
    "\n",
    "# Display the LinkedList\n",
    "my_list.display()\n"
   ]
  },
  {
   "cell_type": "code",
   "execution_count": null,
   "id": "101ecf61",
   "metadata": {},
   "outputs": [],
   "source": []
  },
  {
   "cell_type": "code",
   "execution_count": null,
   "id": "5cea34de",
   "metadata": {},
   "outputs": [],
   "source": []
  }
 ],
 "metadata": {
  "kernelspec": {
   "display_name": "Python 3 (ipykernel)",
   "language": "python",
   "name": "python3"
  },
  "language_info": {
   "codemirror_mode": {
    "name": "ipython",
    "version": 3
   },
   "file_extension": ".py",
   "mimetype": "text/x-python",
   "name": "python",
   "nbconvert_exporter": "python",
   "pygments_lexer": "ipython3",
   "version": "3.9.7"
  }
 },
 "nbformat": 4,
 "nbformat_minor": 5
}
