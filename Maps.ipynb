{
 "cells": [
  {
   "cell_type": "markdown",
   "id": "c303ab71",
   "metadata": {},
   "source": [
    "# MAPS"
   ]
  },
  {
   "cell_type": "markdown",
   "id": "ff01c0d5",
   "metadata": {},
   "source": [
    "Python Maps also called ChainMap is a type of data structure to **manage multiple dictionaries together as one unit**. The combined dictionary contains the key and value pairs in a specific sequence **eliminating any duplicate keys**. The best use of ChainMap is to **search through multiple dictionaries at a time** and get the proper key-value pair mapping. We also see that these ChainMaps **behave as stack data structure**."
   ]
  },
  {
   "cell_type": "code",
   "execution_count": 2,
   "id": "e78f41cd",
   "metadata": {},
   "outputs": [],
   "source": [
    "import collections #to use the ChainMap method"
   ]
  },
  {
   "cell_type": "code",
   "execution_count": 7,
   "id": "e6ed82f1",
   "metadata": {},
   "outputs": [
    {
     "name": "stdout",
     "output_type": "stream",
     "text": [
      "[{'day1': 'Mon', 'day2': 'Tue'}, {'day3': 'Wed', 'day1': 'Thu'}]\n"
     ]
    }
   ],
   "source": [
    "dict1 = {'day1': 'Mon', 'day2': 'Tue'}\n",
    "dict2 = {'day3': 'Wed', 'day1': 'Thu'}\n",
    "\n",
    "res = collections.ChainMap(dict1, dict2)\n",
    "\n",
    "print(res.maps)"
   ]
  },
  {
   "cell_type": "code",
   "execution_count": 8,
   "id": "4175be4d",
   "metadata": {},
   "outputs": [
    {
     "name": "stdout",
     "output_type": "stream",
     "text": [
      "keys = ['day3', 'day1', 'day2']\n"
     ]
    }
   ],
   "source": [
    "print(\"keys = {}\".format(list(res.keys())))"
   ]
  },
  {
   "cell_type": "code",
   "execution_count": 12,
   "id": "2b4f5097",
   "metadata": {},
   "outputs": [
    {
     "name": "stdout",
     "output_type": "stream",
     "text": [
      "values = ['Wed', 'Mon', 'Tue']\n"
     ]
    }
   ],
   "source": [
    "print(\"values = {}\".format(list(res.values())))"
   ]
  },
  {
   "cell_type": "markdown",
   "id": "1b6d9618",
   "metadata": {},
   "source": [
    "The format() method formats the specified value(s) and insert them inside the string's placeholder. The placeholder is defined using curly brackets: {}."
   ]
  },
  {
   "cell_type": "code",
   "execution_count": 15,
   "id": "0547f273",
   "metadata": {},
   "outputs": [
    {
     "name": "stdout",
     "output_type": "stream",
     "text": [
      "day3 = Wed\n",
      "day1 = Mon\n",
      "day2 = Tue\n"
     ]
    }
   ],
   "source": [
    "for key,val in res.items():\n",
    "    print(\"{} = {}\".format(key,val))"
   ]
  },
  {
   "cell_type": "markdown",
   "id": "39499bd2",
   "metadata": {},
   "source": [
    "## MAP REORDERING"
   ]
  },
  {
   "cell_type": "code",
   "execution_count": 16,
   "id": "fd77b158",
   "metadata": {},
   "outputs": [
    {
     "name": "stdout",
     "output_type": "stream",
     "text": [
      "[{'day1': 'Mon', 'day2': 'Tue'}, {'day3': 'Wed', 'day1': 'Thu'}]\n",
      "[{'day3': 'Wed', 'day1': 'Thu'}, {'day1': 'Mon', 'day2': 'Tue'}]\n"
     ]
    }
   ],
   "source": [
    "res2=collections.ChainMap(dict2,dict1)\n",
    "print(res.maps)\n",
    "print(res2.maps)"
   ]
  },
  {
   "cell_type": "markdown",
   "id": "b0de0654",
   "metadata": {},
   "source": [
    "## UPDATING MAP"
   ]
  },
  {
   "cell_type": "code",
   "execution_count": 17,
   "id": "e1e371d7",
   "metadata": {},
   "outputs": [
    {
     "name": "stdout",
     "output_type": "stream",
     "text": [
      "[{'day1': 'Mon', 'day2': 'Tue'}, {'day3': 'Wed', 'day1': 'Thu', 'days4': 'Fri'}]\n"
     ]
    }
   ],
   "source": [
    "dict2['days4'] = 'Fri'\n",
    "print(res.maps)"
   ]
  },
  {
   "cell_type": "code",
   "execution_count": null,
   "id": "4fa5c40e",
   "metadata": {},
   "outputs": [],
   "source": []
  }
 ],
 "metadata": {
  "kernelspec": {
   "display_name": "Python 3 (ipykernel)",
   "language": "python",
   "name": "python3"
  },
  "language_info": {
   "codemirror_mode": {
    "name": "ipython",
    "version": 3
   },
   "file_extension": ".py",
   "mimetype": "text/x-python",
   "name": "python",
   "nbconvert_exporter": "python",
   "pygments_lexer": "ipython3",
   "version": "3.9.7"
  }
 },
 "nbformat": 4,
 "nbformat_minor": 5
}
