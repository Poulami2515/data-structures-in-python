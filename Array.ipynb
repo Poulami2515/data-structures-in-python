{
 "cells": [
  {
   "cell_type": "markdown",
   "id": "25266c37",
   "metadata": {},
   "source": [
    "## ARRAY"
   ]
  },
  {
   "cell_type": "code",
   "execution_count": 4,
   "id": "0fbf6c3a",
   "metadata": {},
   "outputs": [],
   "source": [
    "from array import *\n",
    "arr = array('i', [10,20,30,40,50])"
   ]
  },
  {
   "cell_type": "markdown",
   "id": "ec30a44b",
   "metadata": {},
   "source": [
    "### Traversing"
   ]
  },
  {
   "cell_type": "code",
   "execution_count": 6,
   "id": "28926b84",
   "metadata": {},
   "outputs": [
    {
     "name": "stdout",
     "output_type": "stream",
     "text": [
      "10 20 30 40 50 "
     ]
    }
   ],
   "source": [
    "for i in arr:\n",
    "    print(i, end=' ')"
   ]
  },
  {
   "cell_type": "markdown",
   "id": "633cfdba",
   "metadata": {},
   "source": [
    "### Accessing array elements"
   ]
  },
  {
   "cell_type": "code",
   "execution_count": 7,
   "id": "bf1dff8b",
   "metadata": {},
   "outputs": [
    {
     "name": "stdout",
     "output_type": "stream",
     "text": [
      "30\n"
     ]
    }
   ],
   "source": [
    "print(arr[2])"
   ]
  },
  {
   "cell_type": "markdown",
   "id": "729165f7",
   "metadata": {},
   "source": [
    "### Insertion"
   ]
  },
  {
   "cell_type": "code",
   "execution_count": 9,
   "id": "ce468f99",
   "metadata": {},
   "outputs": [
    {
     "name": "stdout",
     "output_type": "stream",
     "text": [
      "10 20 69 69 30 40 50 "
     ]
    }
   ],
   "source": [
    "arr.insert(2,69)\n",
    "for x in arr:\n",
    "    print(x, end=\" \")"
   ]
  },
  {
   "cell_type": "markdown",
   "id": "5a952eac",
   "metadata": {},
   "source": [
    "### Deletion"
   ]
  },
  {
   "cell_type": "code",
   "execution_count": 10,
   "id": "7d05768b",
   "metadata": {},
   "outputs": [],
   "source": [
    "arr.remove(69) #deletes the first occurence"
   ]
  },
  {
   "cell_type": "code",
   "execution_count": 11,
   "id": "d5d2b052",
   "metadata": {},
   "outputs": [
    {
     "name": "stdout",
     "output_type": "stream",
     "text": [
      "10 20 69 30 40 50 "
     ]
    }
   ],
   "source": [
    "for x in arr:\n",
    "    print(x, end=\" \")"
   ]
  },
  {
   "cell_type": "markdown",
   "id": "d7be149d",
   "metadata": {},
   "source": [
    "### Search Operation"
   ]
  },
  {
   "cell_type": "code",
   "execution_count": 12,
   "id": "4527ffbf",
   "metadata": {},
   "outputs": [
    {
     "name": "stdout",
     "output_type": "stream",
     "text": [
      "4\n"
     ]
    },
    {
     "ename": "ValueError",
     "evalue": "array.index(x): x not in array",
     "output_type": "error",
     "traceback": [
      "\u001b[1;31m---------------------------------------------------------------------------\u001b[0m",
      "\u001b[1;31mValueError\u001b[0m                                Traceback (most recent call last)",
      "\u001b[1;32mC:\\Users\\POULAM~1\\AppData\\Local\\Temp/ipykernel_35600/1967700470.py\u001b[0m in \u001b[0;36m<module>\u001b[1;34m\u001b[0m\n\u001b[0;32m      1\u001b[0m \u001b[0mprint\u001b[0m\u001b[1;33m(\u001b[0m\u001b[0marr\u001b[0m\u001b[1;33m.\u001b[0m\u001b[0mindex\u001b[0m\u001b[1;33m(\u001b[0m\u001b[1;36m40\u001b[0m\u001b[1;33m)\u001b[0m\u001b[1;33m)\u001b[0m\u001b[1;33m\u001b[0m\u001b[1;33m\u001b[0m\u001b[0m\n\u001b[1;32m----> 2\u001b[1;33m \u001b[0mprint\u001b[0m\u001b[1;33m(\u001b[0m\u001b[0marr\u001b[0m\u001b[1;33m.\u001b[0m\u001b[0mindex\u001b[0m\u001b[1;33m(\u001b[0m\u001b[1;36m60\u001b[0m\u001b[1;33m)\u001b[0m\u001b[1;33m)\u001b[0m\u001b[1;33m\u001b[0m\u001b[1;33m\u001b[0m\u001b[0m\n\u001b[0m",
      "\u001b[1;31mValueError\u001b[0m: array.index(x): x not in array"
     ]
    }
   ],
   "source": [
    "print(arr.index(40))\n",
    "print(arr.index(60)) ## raises error if element is not present"
   ]
  },
  {
   "cell_type": "markdown",
   "id": "5091a120",
   "metadata": {},
   "source": [
    "### Update Operation"
   ]
  },
  {
   "cell_type": "code",
   "execution_count": 13,
   "id": "cdb26fd4",
   "metadata": {},
   "outputs": [
    {
     "name": "stdout",
     "output_type": "stream",
     "text": [
      "10 20 69 70 40 50 "
     ]
    }
   ],
   "source": [
    "arr[3]=70\n",
    "for x in arr:\n",
    "    print(x, end=' ')"
   ]
  },
  {
   "cell_type": "code",
   "execution_count": 15,
   "id": "ef88ee23",
   "metadata": {},
   "outputs": [
    {
     "name": "stdout",
     "output_type": "stream",
     "text": [
      "6\n"
     ]
    }
   ],
   "source": [
    "print(len(arr))"
   ]
  },
  {
   "cell_type": "code",
   "execution_count": null,
   "id": "4ad67f16",
   "metadata": {},
   "outputs": [],
   "source": []
  }
 ],
 "metadata": {
  "kernelspec": {
   "display_name": "Python 3 (ipykernel)",
   "language": "python",
   "name": "python3"
  },
  "language_info": {
   "codemirror_mode": {
    "name": "ipython",
    "version": 3
   },
   "file_extension": ".py",
   "mimetype": "text/x-python",
   "name": "python",
   "nbconvert_exporter": "python",
   "pygments_lexer": "ipython3",
   "version": "3.9.7"
  }
 },
 "nbformat": 4,
 "nbformat_minor": 5
}
