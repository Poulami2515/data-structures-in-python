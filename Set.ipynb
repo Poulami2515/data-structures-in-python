{
 "cells": [
  {
   "cell_type": "markdown",
   "id": "48d9a44a",
   "metadata": {},
   "source": [
    "# SETS"
   ]
  },
  {
   "cell_type": "markdown",
   "id": "8e295a48",
   "metadata": {},
   "source": [
    "- Set, as a whole, is mutable though its elements are immutable.\n",
    "- The elements in a set are non-repititive.\n",
    "- There is no index attached to any element in a set, thus there is existence of indexing or slicing operation."
   ]
  },
  {
   "cell_type": "markdown",
   "id": "9e429b67",
   "metadata": {},
   "source": [
    "### CREATION"
   ]
  },
  {
   "cell_type": "code",
   "execution_count": 2,
   "id": "59a11869",
   "metadata": {},
   "outputs": [
    {
     "name": "stdout",
     "output_type": "stream",
     "text": [
      "{'tuesday', 'wednesday', 'thursday', 'friday', 'saturday', 'Monday', 'Sunday'}\n"
     ]
    }
   ],
   "source": [
    "l=[\"Monday\", \"tuesday\", \"wednesday\", \"thursday\", \"friday\", \"saturday\", \"Sunday\"]\n",
    "s=set(l)\n",
    "print(s)"
   ]
  },
  {
   "cell_type": "markdown",
   "id": "54158adb",
   "metadata": {},
   "source": [
    "### ACCESSING ELEMENTS IN A SET"
   ]
  },
  {
   "cell_type": "code",
   "execution_count": 3,
   "id": "df1a80ea",
   "metadata": {},
   "outputs": [
    {
     "name": "stdout",
     "output_type": "stream",
     "text": [
      "tuesday wednesday thursday friday saturday Monday Sunday "
     ]
    }
   ],
   "source": [
    "for el in s:\n",
    "    print(el, end=\" \")"
   ]
  },
  {
   "cell_type": "code",
   "execution_count": 5,
   "id": "4e68d191",
   "metadata": {},
   "outputs": [
    {
     "data": {
      "text/plain": [
       "set"
      ]
     },
     "execution_count": 5,
     "metadata": {},
     "output_type": "execute_result"
    }
   ],
   "source": [
    "type(s)"
   ]
  },
  {
   "cell_type": "markdown",
   "id": "99819829",
   "metadata": {},
   "source": [
    "### ADDING ITEMS TO A SET"
   ]
  },
  {
   "cell_type": "code",
   "execution_count": 7,
   "id": "3f7dd60c",
   "metadata": {},
   "outputs": [
    {
     "name": "stdout",
     "output_type": "stream",
     "text": [
      "{'tuesday', 'wednesday', 'thursday', 'friday', 'saturday', 'Monday', 'Sunday', 'DAYS'}\n"
     ]
    }
   ],
   "source": [
    "s.add(\"DAYS\")\n",
    "print(s)"
   ]
  },
  {
   "cell_type": "markdown",
   "id": "c7927e17",
   "metadata": {},
   "source": [
    "### REMOVING ITEMS FROM A SET"
   ]
  },
  {
   "cell_type": "code",
   "execution_count": 8,
   "id": "c52fe9fb",
   "metadata": {},
   "outputs": [],
   "source": [
    "s.discard(\"DAYS\")"
   ]
  },
  {
   "cell_type": "code",
   "execution_count": 9,
   "id": "1f39819e",
   "metadata": {},
   "outputs": [
    {
     "name": "stdout",
     "output_type": "stream",
     "text": [
      "{'tuesday', 'wednesday', 'thursday', 'friday', 'saturday', 'Monday', 'Sunday'}\n"
     ]
    }
   ],
   "source": [
    "print(s)"
   ]
  },
  {
   "cell_type": "markdown",
   "id": "12385a41",
   "metadata": {},
   "source": [
    "## UNION"
   ]
  },
  {
   "cell_type": "code",
   "execution_count": 10,
   "id": "59fb5e2a",
   "metadata": {},
   "outputs": [
    {
     "name": "stdout",
     "output_type": "stream",
     "text": [
      "{1, 2, 3, 4, 5, 6}\n"
     ]
    }
   ],
   "source": [
    "s1={1,2,3,4}\n",
    "s2={3,4,5,6}\n",
    "print(s1|s2)"
   ]
  },
  {
   "cell_type": "markdown",
   "id": "0d18e759",
   "metadata": {},
   "source": [
    "## INTERSECTION"
   ]
  },
  {
   "cell_type": "code",
   "execution_count": 11,
   "id": "59e07ea3",
   "metadata": {},
   "outputs": [
    {
     "name": "stdout",
     "output_type": "stream",
     "text": [
      "{3, 4}\n"
     ]
    }
   ],
   "source": [
    "s1={1,2,3,4}\n",
    "s2={3,4,5,6}\n",
    "print(s1&s2)"
   ]
  },
  {
   "cell_type": "markdown",
   "id": "9fe3e236",
   "metadata": {},
   "source": [
    "## DIFFERENCE"
   ]
  },
  {
   "cell_type": "code",
   "execution_count": 13,
   "id": "ca632d22",
   "metadata": {},
   "outputs": [
    {
     "name": "stdout",
     "output_type": "stream",
     "text": [
      "{1, 2}\n",
      "{5, 6}\n"
     ]
    }
   ],
   "source": [
    "s1={1,2,3,4}\n",
    "s2={3,4,5,6}\n",
    "print(s1-s2)\n",
    "print(s2-s1)"
   ]
  },
  {
   "cell_type": "markdown",
   "id": "331aa294",
   "metadata": {},
   "source": [
    "## COMPARE"
   ]
  },
  {
   "cell_type": "markdown",
   "id": "bdb73e97",
   "metadata": {},
   "source": [
    "We can check if a given set is a subset or superset of another set. The result is True or False depending on the elements present in the sets."
   ]
  },
  {
   "cell_type": "code",
   "execution_count": 15,
   "id": "cc04e986",
   "metadata": {},
   "outputs": [
    {
     "name": "stdout",
     "output_type": "stream",
     "text": [
      "True\n",
      "True\n"
     ]
    }
   ],
   "source": [
    "DaysA = set([\"Mon\",\"Tue\",\"Wed\"])\n",
    "DaysB = set([\"Mon\",\"Tue\",\"Wed\",\"Thu\",\"Fri\",\"Sat\",\"Sun\"])\n",
    "SubsetRes = DaysA <= DaysB  #subset\n",
    "SupersetRes = DaysB >= DaysA  #superset\n",
    "print(SubsetRes)\n",
    "print(SupersetRes)"
   ]
  },
  {
   "cell_type": "code",
   "execution_count": 16,
   "id": "ded9cdf3",
   "metadata": {},
   "outputs": [
    {
     "name": "stdout",
     "output_type": "stream",
     "text": [
      "False\n",
      "False\n"
     ]
    }
   ],
   "source": [
    "print(s1<=s2)\n",
    "print(s2>=s1)"
   ]
  },
  {
   "cell_type": "code",
   "execution_count": null,
   "id": "04f29baa",
   "metadata": {},
   "outputs": [],
   "source": []
  }
 ],
 "metadata": {
  "kernelspec": {
   "display_name": "Python 3 (ipykernel)",
   "language": "python",
   "name": "python3"
  },
  "language_info": {
   "codemirror_mode": {
    "name": "ipython",
    "version": 3
   },
   "file_extension": ".py",
   "mimetype": "text/x-python",
   "name": "python",
   "nbconvert_exporter": "python",
   "pygments_lexer": "ipython3",
   "version": "3.9.7"
  }
 },
 "nbformat": 4,
 "nbformat_minor": 5
}
